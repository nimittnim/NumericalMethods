{
 "cells": [
  {
   "cell_type": "code",
   "execution_count": 10,
   "metadata": {},
   "outputs": [
    {
     "name": "stdout",
     "output_type": "stream",
     "text": [
      "0.13293506509970146\n",
      "1.297650321313607\n",
      "201\n"
     ]
    }
   ],
   "source": [
    "x = []\n",
    "y = []\n",
    "t = []\n",
    "step = 0.1\n",
    "t_end = 20\n",
    "for k in range(int(t_end/step)):\n",
    "    t.append(k*step)\n",
    "\n",
    "x.append(2)\n",
    "y.append(1)\n",
    "x_previous  = 2\n",
    "y_previous = 1\n",
    "def x_deri(x,y):\n",
    "    a = 1.2 \n",
    "    b = 0.6\n",
    "    x_deri = a*x - b*x*y\n",
    "    return x_deri\n",
    "\n",
    "def y_deri(x,y):\n",
    "    c = 0.8\n",
    "    d = 0.3\n",
    "    y_deri =  -c*y + d*x*y\n",
    "    return y_deri\n",
    "\n",
    "for i in range(len(t)):\n",
    "    y_current = y_previous + y_deri(x_previous,y_previous)*step\n",
    "    x_current = x_previous + x_deri(x_previous,y_previous)*step\n",
    "    y.append(y_current)\n",
    "    x.append(x_current)\n",
    "    y_previous = y_current\n",
    "    x_previous = x_current\n",
    "\n",
    "print(\"y(20) : \",x[-1])\n",
    "print(\"y(20)\",y[-1])\n",
    "\n"
   ]
  }
 ],
 "metadata": {
  "kernelspec": {
   "display_name": "Python 3",
   "language": "python",
   "name": "python3"
  },
  "language_info": {
   "codemirror_mode": {
    "name": "ipython",
    "version": 3
   },
   "file_extension": ".py",
   "mimetype": "text/x-python",
   "name": "python",
   "nbconvert_exporter": "python",
   "pygments_lexer": "ipython3",
   "version": "3.11.1"
  },
  "orig_nbformat": 4,
  "vscode": {
   "interpreter": {
    "hash": "aee8b7b246df8f9039afb4144a1f6fd8d2ca17a180786b69acc140d282b71a49"
   }
  }
 },
 "nbformat": 4,
 "nbformat_minor": 2
}
