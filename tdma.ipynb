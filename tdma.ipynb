{
 "cells": [
  {
   "cell_type": "code",
   "execution_count": 13,
   "metadata": {},
   "outputs": [
    {
     "name": "stdout",
     "output_type": "stream",
     "text": [
      "Entered Matrix : \n",
      "\n",
      "[-20.0, 15.0, 0.0]\n",
      "[15.0, -30.0, 15.0]\n",
      "[0.0, 15.0, -20.0]\n",
      "\n",
      "\n",
      "L is : \n",
      "[1, 0.0, 0.0]\n",
      "[0.75, 1, 0.0]\n",
      "[0.0, 0.8, 1]\n",
      "\n",
      "\n",
      "U is : \n",
      "[-20.0, 15.0, 0.0]\n",
      "[0.0, -18.75, 15.0]\n",
      "[0.0, 0.0, -8.0]\n"
     ]
    }
   ],
   "source": [
    "#This code genrates L and U and then subctitutes to get roots\n",
    "n = int(input(\"Enter n\"))\n",
    "\n",
    "mat=[]\n",
    "for i in range(n):\n",
    "    mat.append([0.0] * (n))\n",
    "\n",
    "\n",
    "\n",
    "for j in range(n):\n",
    "    row = input(f\"Enter the {j + 1} th row of coefficient Matrix\")\n",
    "    row_arr = row.split(\" \")\n",
    "    for l in range(n):\n",
    "        mat[j][l] = float(row_arr[l])\n",
    "print(\"Entered Matrix : \\n\")\n",
    "for m in range(n):\n",
    "    print(mat[m])\n",
    "L = []\n",
    "for i in range(n):\n",
    "    L.append([0.0] * (n))\n",
    "for i in range(n):\n",
    "    L[i][i] = 1\n",
    "\n",
    "U = []\n",
    "for i in range(n):\n",
    "    U.append([0.0] * (n))\n",
    "\n",
    "def forwardElimination(mat,L,U):\n",
    "    for j in range(n):\n",
    "        for k in range(j+1,n) :\n",
    "            f_kj = mat[k][j]/mat[j][j]\n",
    "            L[k][j] = - f_kj\n",
    "            for l in range(n):\n",
    "                mat[k][l]=mat[k][l] - (f_kj)*mat[j][l]\n",
    "    for q in range(n):\n",
    "        for p in range(n):\n",
    "            U[q][p] = mat[q][p]\n",
    "\n",
    "forwardElimination(mat,L,U)\n",
    "print('\\n')\n",
    "print(\"L is : \")\n",
    "for m in range(n):\n",
    "    print(L[m])\n",
    "\n",
    "print('\\n')\n",
    "print(\"U is : \")\n",
    "for m in range(n):\n",
    "    print(U[m])\n",
    "\n"
   ]
  }
 ],
 "metadata": {
  "kernelspec": {
   "display_name": "Python 3",
   "language": "python",
   "name": "python3"
  },
  "language_info": {
   "codemirror_mode": {
    "name": "ipython",
    "version": 3
   },
   "file_extension": ".py",
   "mimetype": "text/x-python",
   "name": "python",
   "nbconvert_exporter": "python",
   "pygments_lexer": "ipython3",
   "version": "3.11.1 (v3.11.1:a7a450f84a, Dec  6 2022, 15:24:06) [Clang 13.0.0 (clang-1300.0.29.30)]"
  },
  "orig_nbformat": 4,
  "vscode": {
   "interpreter": {
    "hash": "aee8b7b246df8f9039afb4144a1f6fd8d2ca17a180786b69acc140d282b71a49"
   }
  }
 },
 "nbformat": 4,
 "nbformat_minor": 2
}
