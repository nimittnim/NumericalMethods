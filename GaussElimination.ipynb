{
 "cells": [
  {
   "cell_type": "code",
   "execution_count": 7,
   "metadata": {},
   "outputs": [
    {
     "name": "stdout",
     "output_type": "stream",
     "text": [
      "RRF : [[  40.        -1.         0.      -263.8964 ]\n",
      " [   0.         1.25      -1.       -25.46114]\n",
      " [   0.         0.         2.       706.18364]]\n",
      "Zeros are : [-4.47964000e-02  2.62104544e+02  3.53091820e+02]\n"
     ]
    }
   ],
   "source": [
    "import numpy as np\n",
    "\n",
    "n=int(input(\"Enter n\"))\n",
    "mat=np.zeros((n,n+1))\n",
    "roots=np.zeros(n+1)\n",
    "\n",
    "def forwardElimination(mat):\n",
    "    for j in range(n):\n",
    "        row = input(\"Enter the first row of coefficients\")\n",
    "        row_arr=row.split(\" \")\n",
    "        for l in range(n):\n",
    "            mat[j,l]=row_arr[l]\n",
    "        mat[j,n]=row_arr[n]\n",
    "\n",
    "    j=0\n",
    "    while j<n :\n",
    "        for k in range(j+1,n) :\n",
    "            mat[k]=mat[k] - (mat[k,j]/mat[j,j])*mat[j]\n",
    "        j+=1\n",
    "forwardElimination(mat)\n",
    "\n",
    "def backSubstitution(mat) : \n",
    "    global roots\n",
    "    roots[n-1]=mat[n-1,n]/mat[n-1][n-1]\n",
    "    p=n-2\n",
    "    while p>-1:\n",
    "        roots[p] = (mat[p,n] - sum((np.multiply(mat[p],roots))))/(mat[p,p])\n",
    "        p-=1\n",
    "\n",
    "backSubstitution(mat)\n",
    "print(\"RRF :\",mat)\n",
    "print(\"Zeros are :\",roots[0:n])"
   ]
  },
  {
   "cell_type": "code",
   "execution_count": 1,
   "metadata": {},
   "outputs": [
    {
     "name": "stdout",
     "output_type": "stream",
     "text": [
      "RRF : [[ 130.          -30.            0.          500.        ]\n",
      " [   0.          -69.23076923    0.         -346.15384615]\n",
      " [   0.            0.         -120.         -700.        ]]\n",
      "Zeros are : [5.         5.         5.83333333]\n"
     ]
    }
   ],
   "source": [
    "import numpy as np\n",
    "\n",
    "n=int(input(\"Enter n\"))\n",
    "mat=np.zeros((n,n+1))\n",
    "roots=np.zeros(n+1)\n",
    "\n",
    "def forwardElimination(mat):\n",
    "    for j in range(n):\n",
    "        row = input(\"Enter the first row of coefficients\")\n",
    "        row_arr=row.split(\" \")\n",
    "        for l in range(n):\n",
    "            mat[j,l]=row_arr[l]\n",
    "        mat[j,n]=row_arr[n]\n",
    "\n",
    "    j=0\n",
    "    while j<n :\n",
    "        for k in range(j+1,n) :\n",
    "            mat[k]=mat[k] - (mat[k,j]/mat[j,j])*mat[j]\n",
    "        j+=1\n",
    "forwardElimination(mat)\n",
    "\n",
    "def backSubstitution(mat) : \n",
    "    global roots\n",
    "    roots[n-1]=mat[n-1,n]/mat[n-1][n-1]\n",
    "    p=n-2\n",
    "    while p>-1:\n",
    "        roots[p] = (mat[p,n] - sum((np.multiply(mat[p],roots))))/(mat[p,p])\n",
    "        p-=1\n",
    "\n",
    "backSubstitution(mat)\n",
    "print(\"RRF :\",mat)\n",
    "print(\"Zeros are :\",roots[0:n])"
   ]
  },
  {
   "cell_type": "code",
   "execution_count": 9,
   "metadata": {},
   "outputs": [
    {
     "name": "stdout",
     "output_type": "stream",
     "text": [
      "RRF : [[  6.          -4.          -2.          20.        ]\n",
      " [  0.         -15.33333333   9.33333333 -13.33333333]\n",
      " [  0.           0.          -8.65217391 -14.7826087 ]]\n",
      "Zeros are : [5.1758794  1.90954774 1.70854271]\n"
     ]
    }
   ],
   "source": [
    "import numpy as np\n",
    "\n",
    "n=int(input(\"Enter n\"))\n",
    "mat=np.zeros((n,n+1))\n",
    "roots=np.zeros(n+1)\n",
    "\n",
    "def forwardElimination(mat):\n",
    "    for j in range(n):\n",
    "        row = input(\"Enter the first row of coefficients\")\n",
    "        row_arr=row.split(\" \")\n",
    "        for l in range(n):\n",
    "            mat[j,l]=row_arr[l]\n",
    "        mat[j,n]=row_arr[n]\n",
    "\n",
    "    j=0\n",
    "    while j<n :\n",
    "        for k in range(j+1,n) :\n",
    "            mat[k]=mat[k] - (mat[k,j]/mat[j,j])*mat[j]\n",
    "        j+=1\n",
    "forwardElimination(mat)\n",
    "\n",
    "def backSubstitution(mat) : \n",
    "    global roots\n",
    "    roots[n-1]=mat[n-1,n]/mat[n-1][n-1]\n",
    "    p=n-2\n",
    "    while p>-1:\n",
    "        roots[p] = (mat[p,n] - sum((np.multiply(mat[p],roots))))/(mat[p,p])\n",
    "        p-=1\n",
    "\n",
    "backSubstitution(mat)\n",
    "print(\"RRF :\",mat)\n",
    "print(\"Zeros are :\",roots[0:n])"
   ]
  }
 ],
 "metadata": {
  "kernelspec": {
   "display_name": "Python 3",
   "language": "python",
   "name": "python3"
  },
  "language_info": {
   "codemirror_mode": {
    "name": "ipython",
    "version": 3
   },
   "file_extension": ".py",
   "mimetype": "text/x-python",
   "name": "python",
   "nbconvert_exporter": "python",
   "pygments_lexer": "ipython3",
   "version": "3.11.1 (v3.11.1:a7a450f84a, Dec  6 2022, 15:24:06) [Clang 13.0.0 (clang-1300.0.29.30)]"
  },
  "orig_nbformat": 4,
  "vscode": {
   "interpreter": {
    "hash": "aee8b7b246df8f9039afb4144a1f6fd8d2ca17a180786b69acc140d282b71a49"
   }
  }
 },
 "nbformat": 4,
 "nbformat_minor": 2
}
