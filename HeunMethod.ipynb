{
 "cells": [
  {
   "cell_type": "code",
   "execution_count": 6,
   "metadata": {},
   "outputs": [
    {
     "name": "stdout",
     "output_type": "stream",
     "text": [
      "0.11965208444933287\n",
      "1.4550042353272712\n",
      "201\n"
     ]
    }
   ],
   "source": [
    "x = []\n",
    "y = []\n",
    "t = []\n",
    "step = 0.1\n",
    "t_end = 20\n",
    "for k in range(int(t_end/step)):\n",
    "    t.append(k*step)\n",
    "a = 1.2 \n",
    "b = 0.6\n",
    "c = 0.8\n",
    "d = 0.3\n",
    "x.append(2)\n",
    "y.append(1)\n",
    "x_previous  = 2\n",
    "y_previous = 1\n",
    "\n",
    "def x_deri(x,y):\n",
    "    a = 1.2 \n",
    "    b = 0.6\n",
    "    x_deri = a*x - b*x*y\n",
    "    return x_deri\n",
    "\n",
    "def y_deri(x,y):\n",
    "    c = 0.8\n",
    "    d = 0.3\n",
    "    y_deri =  -c*y + d*x*y\n",
    "    return y_deri\n",
    "\n",
    "for i in range(len(t)):\n",
    "    y_current = y_previous + y_deri(x_previous,y_previous)*step\n",
    "    y_corrected_deri = (y_deri(x_previous,y_previous)+y_deri(x_previous,y_current))/2\n",
    "    y_current = y_previous + y_corrected_deri*step\n",
    "\n",
    "    x_current = x_previous + x_deri(x_previous,y_previous)*step\n",
    "    x_corrected_deri = (x_deri(x_previous,y_previous)+x_deri(x_current,y_previous))/2\n",
    "    x_current = x_previous + x_corrected_deri*step\n",
    "\n",
    "    y.append(y_current)\n",
    "    x.append(x_current)\n",
    "    y_previous = y_current\n",
    "    x_previous = x_current\n",
    "\n",
    "print(x[-1])\n",
    "print(y[-1])\n",
    "print(len(x))"
   ]
  }
 ],
 "metadata": {
  "kernelspec": {
   "display_name": "Python 3",
   "language": "python",
   "name": "python3"
  },
  "language_info": {
   "codemirror_mode": {
    "name": "ipython",
    "version": 3
   },
   "file_extension": ".py",
   "mimetype": "text/x-python",
   "name": "python",
   "nbconvert_exporter": "python",
   "pygments_lexer": "ipython3",
   "version": "3.11.1 (v3.11.1:a7a450f84a, Dec  6 2022, 15:24:06) [Clang 13.0.0 (clang-1300.0.29.30)]"
  },
  "orig_nbformat": 4,
  "vscode": {
   "interpreter": {
    "hash": "aee8b7b246df8f9039afb4144a1f6fd8d2ca17a180786b69acc140d282b71a49"
   }
  }
 },
 "nbformat": 4,
 "nbformat_minor": 2
}
