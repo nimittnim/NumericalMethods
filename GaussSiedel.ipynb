{
 "cells": [
  {
   "cell_type": "code",
   "execution_count": 12,
   "metadata": {},
   "outputs": [
    {
     "name": "stdout",
     "output_type": "stream",
     "text": [
      "Enter your guessed zeros:\n",
      "\n",
      "[0.0, 4.0, 4.0]\n",
      "[4.769230769230769, 4.769230769230769, 5.6410256410256405]\n",
      "[4.946745562130178, 4.946745562130178, 5.788954635108482]\n",
      "[4.987710514337734, 4.987710514337734, 5.823092095281445]\n",
      "[4.997163964847169, 4.997163964847169, 5.830969970705974]\n",
      "[4.999345530349347, 4.999345530349347, 5.832787941957789]\n",
      "[4.999848968542157, 4.999848968542157, 5.833207473785131]\n",
      "[4.999965146586652, 4.999965146586652, 5.83330428882221]\n",
      "[4.999991956904612, 4.999991956904612, 5.833326630753843]\n",
      "[4.999998143901065, 4.999998143901065, 5.833331786584221]\n",
      "[4.999999571669476, 4.999999571669476, 5.8333329763912305]\n",
      "[4.999999901154495, 4.999999901154495, 5.833333250962079]\n",
      "Roots: [4.999999977189499, 4.999999977189499, 5.833333314324582]\n"
     ]
    }
   ],
   "source": [
    "n = int(input(\"Enter n\"))\n",
    "\n",
    "mat = [[0.0] * (n + 1) for _ in range(n)]\n",
    "\n",
    "for j in range(n):\n",
    "    row = input(f\"Enter the {j + 1} th row of coefficients\")\n",
    "    row_arr = row.split(\" \")\n",
    "    for l in range(n + 1):\n",
    "        mat[j][l] = float(row_arr[l])\n",
    "\n",
    "print(\"Enter your guessed zeros:\\n\")\n",
    "roots = [0.0] * n\n",
    "roots_array = list(map(float, input(\"Enter the roots : \").split()))\n",
    "\n",
    "\n",
    "for k in range(1, n):\n",
    "    roots[k] = roots_array[k - 1]\n",
    "print(roots)\n",
    "\n",
    "def GaussSiedel(mat, roots, eps=0.001, max_iterations=100):\n",
    "    n = len(mat)\n",
    "    eps = 0.0000001\n",
    "    \n",
    "    for iter in range(max_iterations):\n",
    "        flag = False\n",
    "        for i in range(n):\n",
    "            x = 0\n",
    "            for j in range(n):\n",
    "                if j != i:\n",
    "                    x += mat[i][j] * roots[j]\n",
    "            x = (mat[i][n] - x) / mat[i][i]\n",
    "            e = abs(roots[i] - x)\n",
    "            if e > eps:\n",
    "                flag = True\n",
    "            roots[i] = x\n",
    "        if not flag:\n",
    "            break\n",
    "        print(roots)\n",
    "\n",
    "\n",
    "GaussSiedel(mat, roots)\n",
    "print(\"Roots:\", roots)"
   ]
  }
 ],
 "metadata": {
  "kernelspec": {
   "display_name": "Python 3",
   "language": "python",
   "name": "python3"
  },
  "language_info": {
   "codemirror_mode": {
    "name": "ipython",
    "version": 3
   },
   "file_extension": ".py",
   "mimetype": "text/x-python",
   "name": "python",
   "nbconvert_exporter": "python",
   "pygments_lexer": "ipython3",
   "version": "3.11.1 (v3.11.1:a7a450f84a, Dec  6 2022, 15:24:06) [Clang 13.0.0 (clang-1300.0.29.30)]"
  },
  "orig_nbformat": 4,
  "vscode": {
   "interpreter": {
    "hash": "aee8b7b246df8f9039afb4144a1f6fd8d2ca17a180786b69acc140d282b71a49"
   }
  }
 },
 "nbformat": 4,
 "nbformat_minor": 2
}
